{
  "nbformat": 4,
  "nbformat_minor": 0,
  "metadata": {
    "colab": {
      "provenance": []
    },
    "kernelspec": {
      "name": "python3",
      "display_name": "Python 3"
    },
    "language_info": {
      "name": "python"
    }
  },
  "cells": [
    {
      "cell_type": "code",
      "execution_count": null,
      "metadata": {
        "colab": {
          "base_uri": "https://localhost:8080/"
        },
        "id": "m1Elaft0gkOV",
        "outputId": "55b3a798-a119-48ce-d72c-2d9b20c3557c"
      },
      "outputs": [
        {
          "output_type": "execute_result",
          "data": {
            "text/plain": [
              "[115910.26, 128, 4]"
            ]
          },
          "metadata": {},
          "execution_count": 1
        }
      ],
      "source": [
        "house_0_list = [115910.26,128,4]\n",
        "house_0_list"
      ]
    },
    {
      "cell_type": "code",
      "source": [
        "# Task 1.1.1 Cal price of house per meter square\n",
        "# to do this we divide the price of the house by the number of the square meter\n",
        "house_0_price_m2 = house_0_list[0]/house_0_list[1]\n",
        "house_0_price_m2"
      ],
      "metadata": {
        "colab": {
          "base_uri": "https://localhost:8080/"
        },
        "id": "pfk-fUrziqB7",
        "outputId": "e3c68ff6-b06f-429e-9e24-05a115213275"
      },
      "execution_count": null,
      "outputs": [
        {
          "output_type": "execute_result",
          "data": {
            "text/plain": [
              "905.54890625"
            ]
          },
          "metadata": {},
          "execution_count": 2
        }
      ]
    },
    {
      "cell_type": "code",
      "source": [
        "# Task 1.1.2 I want to add the above cal to my list using the applend method\n",
        "house_0_list.append(house_0_price_m2)\n",
        "house_0_list"
      ],
      "metadata": {
        "colab": {
          "base_uri": "https://localhost:8080/"
        },
        "id": "7AK_R0GqjNmM",
        "outputId": "159dcef8-c5cb-4531-bf7d-cc5391605195"
      },
      "execution_count": null,
      "outputs": [
        {
          "output_type": "execute_result",
          "data": {
            "text/plain": [
              "[115910.26, 128, 4, 905.54890625]"
            ]
          },
          "metadata": {},
          "execution_count": 3
        }
      ]
    },
    {
      "cell_type": "code",
      "source": [
        "# Task 1.1.3 Applend the price per square meter to each observation in the house_nested_list using a for loop\n",
        "house_nested_list = [\n",
        "    [115910.06, 128.0, 4.0],\n",
        "    [48718.17, 210.0, 3.0],\n",
        "    [28977.56, 58.0, 2.0],\n",
        "    [36932.27, 79.0, 3.0],\n",
        "    [83903.51, 110.0, 3.0]\n",
        "]\n",
        "\n",
        "house_nested_list\n"
      ],
      "metadata": {
        "colab": {
          "base_uri": "https://localhost:8080/"
        },
        "id": "Dfnxj4XsllF6",
        "outputId": "2c01ae48-6391-416e-a817-ca981386745b"
      },
      "execution_count": null,
      "outputs": [
        {
          "output_type": "execute_result",
          "data": {
            "text/plain": [
              "[[115910.06, 128.0, 4.0],\n",
              " [48718.17, 210.0, 3.0],\n",
              " [28977.56, 58.0, 2.0],\n",
              " [36932.27, 79.0, 3.0],\n",
              " [83903.51, 110.0, 3.0]]"
            ]
          },
          "metadata": {},
          "execution_count": 5
        }
      ]
    },
    {
      "cell_type": "code",
      "source": [
        "house_nested_list = [\n",
        "    [115910.06, 128.0, 4.0],\n",
        "    [48718.17, 210.0, 3.0],\n",
        "    [28977.56, 58.0, 2.0],\n",
        "    [36932.27, 79.0, 3.0],\n",
        "    [83903.51, 110.0, 3.0]\n",
        "]\n",
        "\n",
        "for house in house_nested_list:\n",
        "    price_m2 = house[0] / house[1]\n",
        "    house.append(price_m2)\n",
        "\n",
        "house_nested_list\n"
      ],
      "metadata": {
        "colab": {
          "base_uri": "https://localhost:8080/"
        },
        "id": "peXJXRabn-Va",
        "outputId": "7aea0ce2-98d8-4754-aa3f-cdaf4dc6ed96"
      },
      "execution_count": null,
      "outputs": [
        {
          "output_type": "execute_result",
          "data": {
            "text/plain": [
              "[[115910.06, 128.0, 4.0, 905.54734375],\n",
              " [48718.17, 210.0, 3.0, 231.9912857142857],\n",
              " [28977.56, 58.0, 2.0, 499.61310344827587],\n",
              " [36932.27, 79.0, 3.0, 467.4970886075949],\n",
              " [83903.51, 110.0, 3.0, 762.7591818181818]]"
            ]
          },
          "metadata": {},
          "execution_count": 11
        }
      ]
    },
    {
      "cell_type": "code",
      "source": [
        "# Working With Dictionaries\n",
        "house_0_dict = {\"price_aprox_uds\":115910.06, \"surface_covered_in_m2\": 128.0, \"room\": 4.0,\n",
        "\n",
        "}\n",
        "house_0_dict\n"
      ],
      "metadata": {
        "colab": {
          "base_uri": "https://localhost:8080/"
        },
        "id": "KF7KSgRlrNdt",
        "outputId": "9fae98d9-16a0-4579-fd44-5d351b1f4055"
      },
      "execution_count": 8,
      "outputs": [
        {
          "output_type": "execute_result",
          "data": {
            "text/plain": [
              "{'price_aprox_uds': 115910.06, 'surface_covered_in_m2': 128.0, 'room': 4.0}"
            ]
          },
          "metadata": {},
          "execution_count": 8
        }
      ]
    },
    {
      "cell_type": "code",
      "source": [
        "# Task 1.1.4 Calulate price per square meter using dictionary\n",
        "house_0_dict[\"price_m2\"] = house_0_dict [\"price_aprox_uds\"]/house_0_dict[\"surface_covered_in_m2\"]\n",
        "house_0_dict"
      ],
      "metadata": {
        "colab": {
          "base_uri": "https://localhost:8080/"
        },
        "id": "WX0KDec64f-F",
        "outputId": "790475ed-2cae-4c87-e759-d581ab6cf3b0"
      },
      "execution_count": 11,
      "outputs": [
        {
          "output_type": "execute_result",
          "data": {
            "text/plain": [
              "{'price_aprox_uds': 115910.06,\n",
              " 'surface_covered_in_m2': 128.0,\n",
              " 'room': 4.0,\n",
              " 'price_m2': 905.54734375}"
            ]
          },
          "metadata": {},
          "execution_count": 11
        }
      ]
    },
    {
      "cell_type": "code",
      "source": [
        "houses_rowwise = [\n",
        "    {\"price_aprox_uds\":115910.06, \"surface_covered_in_m2\": 128.0, \"room\": 4.0},\n",
        "     {\"price_aprox_uds\":48718.17, \"surface_covered_in_m2\": 210.0, \"room\": 3.0 },\n",
        "      {\"price_aprox_uds\":28977.56, \"surface_covered_in_m2\": 58.0, \"room\": 2.0},\n",
        "     {\"price_aprox_uds\":36932.27, \"surface_covered_in_m2\": 79.0, \"room\": 3.0},\n",
        "     {\"price_aprox_uds\":83903.51, \"surface_covered_in_m2\": 110.0, \"room\": 3.0},\n",
        "\n",
        "]\n",
        "houses_rowwise"
      ],
      "metadata": {
        "colab": {
          "base_uri": "https://localhost:8080/"
        },
        "id": "cRL3aWjVzISt",
        "outputId": "02dbeb6c-9352-4640-ab73-75567870eb60"
      },
      "execution_count": 21,
      "outputs": [
        {
          "output_type": "execute_result",
          "data": {
            "text/plain": [
              "[{'price_aprox_uds': 115910.06, 'surface_covered_in_m2': 128.0, 'room': 4.0},\n",
              " {'price_aprox_uds': 48718.17, 'surface_covered_in_m2': 210.0, 'room': 3.0},\n",
              " {'price_aprox_uds': 28977.56, 'surface_covered_in_m2': 58.0, 'room': 2.0},\n",
              " {'price_aprox_uds': 36932.27, 'surface_covered_in_m2': 79.0, 'room': 3.0},\n",
              " {'price_aprox_uds': 83903.51, 'surface_covered_in_m2': 110.0, 'room': 3.0}]"
            ]
          },
          "metadata": {},
          "execution_count": 21
        }
      ]
    },
    {
      "cell_type": "code",
      "source": [
        "# Task 1.1.5 Applend the price per square meter to each observation in the house_nested_dict using a for loop\n",
        "for house in houses_rowwise:\n",
        "    house[\"price_per_m2\"] = house[\"price_aprox_uds\"] / house[\"surface_covered_in_m2\"]\n",
        "\n",
        "houses_rowwise\n"
      ],
      "metadata": {
        "colab": {
          "base_uri": "https://localhost:8080/"
        },
        "id": "5jZ28a2x54BU",
        "outputId": "8e568d42-c4dc-49b6-f7aa-e0a76e6da15a"
      },
      "execution_count": 22,
      "outputs": [
        {
          "output_type": "execute_result",
          "data": {
            "text/plain": [
              "[{'price_aprox_uds': 115910.06,\n",
              "  'surface_covered_in_m2': 128.0,\n",
              "  'room': 4.0,\n",
              "  'price_per_m2': 905.54734375},\n",
              " {'price_aprox_uds': 48718.17,\n",
              "  'surface_covered_in_m2': 210.0,\n",
              "  'room': 3.0,\n",
              "  'price_per_m2': 231.9912857142857},\n",
              " {'price_aprox_uds': 28977.56,\n",
              "  'surface_covered_in_m2': 58.0,\n",
              "  'room': 2.0,\n",
              "  'price_per_m2': 499.61310344827587},\n",
              " {'price_aprox_uds': 36932.27,\n",
              "  'surface_covered_in_m2': 79.0,\n",
              "  'room': 3.0,\n",
              "  'price_per_m2': 467.4970886075949},\n",
              " {'price_aprox_uds': 83903.51,\n",
              "  'surface_covered_in_m2': 110.0,\n",
              "  'room': 3.0,\n",
              "  'price_per_m2': 762.7591818181818}]"
            ]
          },
          "metadata": {},
          "execution_count": 22
        }
      ]
    },
    {
      "cell_type": "code",
      "source": [
        "# Task 1.1.6 calculating the mean price, row-wise using dictionary\n",
        "house_prices = []\n",
        "for house in houses_rowwise:\n",
        "    house_prices.append(house[\"price_aprox_uds\"])\n",
        "house_prices\n"
      ],
      "metadata": {
        "colab": {
          "base_uri": "https://localhost:8080/"
        },
        "id": "moTUtGNd_xYs",
        "outputId": "92c10e7a-6ed4-49b9-9fc1-635591f575f7"
      },
      "execution_count": 24,
      "outputs": [
        {
          "output_type": "execute_result",
          "data": {
            "text/plain": [
              "[115910.06, 48718.17, 28977.56, 36932.27, 83903.51]"
            ]
          },
          "metadata": {},
          "execution_count": 24
        }
      ]
    },
    {
      "cell_type": "code",
      "source": [
        "house_prices = []\n",
        "for house in houses_rowwise:\n",
        "    house_prices.append(house[\"price_aprox_uds\"])\n",
        "house_prices\n",
        "sum(house_prices)\n",
        "\n",
        "\n"
      ],
      "metadata": {
        "colab": {
          "base_uri": "https://localhost:8080/"
        },
        "id": "h3nIKvmkBtUp",
        "outputId": "5479a9c3-35c5-4e05-88b9-a43a9a8fa441"
      },
      "execution_count": 29,
      "outputs": [
        {
          "output_type": "execute_result",
          "data": {
            "text/plain": [
              "314441.57"
            ]
          },
          "metadata": {},
          "execution_count": 29
        }
      ]
    },
    {
      "cell_type": "code",
      "source": [
        "len(house_prices)"
      ],
      "metadata": {
        "colab": {
          "base_uri": "https://localhost:8080/"
        },
        "id": "XpwfjpG3CrEs",
        "outputId": "3b505707-cad5-4de9-c22e-2d756614ba8f"
      },
      "execution_count": 30,
      "outputs": [
        {
          "output_type": "execute_result",
          "data": {
            "text/plain": [
              "5"
            ]
          },
          "metadata": {},
          "execution_count": 30
        }
      ]
    },
    {
      "cell_type": "code",
      "source": [
        "mean_house_price = sum(house_prices)/len(house_prices)\n",
        "mean_house_price"
      ],
      "metadata": {
        "colab": {
          "base_uri": "https://localhost:8080/"
        },
        "id": "aZpz84y4Cuzb",
        "outputId": "c5791cee-f621-4ea9-b463-9bbca6bf8c28"
      },
      "execution_count": 32,
      "outputs": [
        {
          "output_type": "execute_result",
          "data": {
            "text/plain": [
              "62888.314"
            ]
          },
          "metadata": {},
          "execution_count": 32
        }
      ]
    },
    {
      "cell_type": "code",
      "source": [
        "house_surface_covered_in_m2 = []\n",
        "for house in houses_rowwise:\n",
        "    house_surface_covered_in_m2.append(house[\"surface_covered_in_m2\"])\n",
        "house_surface_covered_in_m2"
      ],
      "metadata": {
        "colab": {
          "base_uri": "https://localhost:8080/"
        },
        "id": "a8Ykm2ujFNEY",
        "outputId": "0240115a-66f6-4302-9a7b-62dc09422b90"
      },
      "execution_count": 35,
      "outputs": [
        {
          "output_type": "execute_result",
          "data": {
            "text/plain": [
              "[128.0, 210.0, 58.0, 79.0, 110.0]"
            ]
          },
          "metadata": {},
          "execution_count": 35
        }
      ]
    },
    {
      "cell_type": "code",
      "source": [
        "house_room = []\n",
        "for house in houses_rowwise:\n",
        "   house_room.append(house['room'])\n",
        "house_room"
      ],
      "metadata": {
        "colab": {
          "base_uri": "https://localhost:8080/"
        },
        "id": "yHzQRtpFGTS8",
        "outputId": "57924be5-159c-4078-e547-bea970523134"
      },
      "execution_count": 36,
      "outputs": [
        {
          "output_type": "execute_result",
          "data": {
            "text/plain": [
              "[4.0, 3.0, 2.0, 3.0, 3.0]"
            ]
          },
          "metadata": {},
          "execution_count": 36
        }
      ]
    },
    {
      "cell_type": "code",
      "source": [
        "# Task 1.1.7  Calculate the mean house price in houses_columnwise\n",
        "houses_columnwise = {\n",
        "    'price_aprox_uds':[115910.06, 48718.17, 28977.56, 36932.27, 83903.51],\n",
        "   \"surface_covered_in_m2\": [128.0, 210.0, 58.0, 79.0, 110.0],\n",
        "    'room': [4.0, 3.0, 2.0, 3.0, 3.0]\n",
        "}\n",
        "houses_columnwise\n",
        "\n"
      ],
      "metadata": {
        "colab": {
          "base_uri": "https://localhost:8080/"
        },
        "id": "mlhBWxslDSVA",
        "outputId": "3902fcdf-a11d-4811-e397-156de2796daf"
      },
      "execution_count": 37,
      "outputs": [
        {
          "output_type": "execute_result",
          "data": {
            "text/plain": [
              "{'price_aprox_uds': [115910.06, 48718.17, 28977.56, 36932.27, 83903.51],\n",
              " 'surface_covered_in_m2': [128.0, 210.0, 58.0, 79.0, 110.0],\n",
              " 'room': [4.0, 3.0, 2.0, 3.0, 3.0]}"
            ]
          },
          "metadata": {},
          "execution_count": 37
        }
      ]
    },
    {
      "cell_type": "code",
      "source": [
        "# To calculate the mean of houses_columnwise\n",
        "mean_house_price = sum(houses_columnwise['price_aprox_uds'])/len(houses_columnwise['price_aprox_uds'])\n",
        "mean_house_price"
      ],
      "metadata": {
        "colab": {
          "base_uri": "https://localhost:8080/"
        },
        "id": "A_QASuzGHWUn",
        "outputId": "79039d97-c7f9-425a-e09d-00926f5ebda0"
      },
      "execution_count": 38,
      "outputs": [
        {
          "output_type": "execute_result",
          "data": {
            "text/plain": [
              "62888.314"
            ]
          },
          "metadata": {},
          "execution_count": 38
        }
      ]
    },
    {
      "cell_type": "code",
      "source": [
        "# Task 1.1.8: Create a \"price_per_m2\" column in houses_columnwise\n",
        "price = houses_columnwise['price_aprox_uds']\n",
        "area = houses_columnwise['surface_covered_in_m2']\n",
        "zip(price, area)\n",
        "\n",
        "\n"
      ],
      "metadata": {
        "colab": {
          "base_uri": "https://localhost:8080/"
        },
        "id": "blXX3jzrIrkA",
        "outputId": "fbecbe8e-482b-4b70-9083-b653eecd7d43"
      },
      "execution_count": 41,
      "outputs": [
        {
          "output_type": "execute_result",
          "data": {
            "text/plain": [
              "<zip at 0x7c9af370ea80>"
            ]
          },
          "metadata": {},
          "execution_count": 41
        }
      ]
    },
    {
      "cell_type": "code",
      "source": [
        "# Using for loop\n",
        "price_per_m2 = []\n",
        "for price, area in zip(price, area):\n",
        "    price_per_m2.append(price/area)\n",
        "price_per_m2"
      ],
      "metadata": {
        "colab": {
          "base_uri": "https://localhost:8080/"
        },
        "id": "F052DA1_Pl6m",
        "outputId": "1be80f59-133f-432c-aad1-c7a8aa228a4b"
      },
      "execution_count": 42,
      "outputs": [
        {
          "output_type": "execute_result",
          "data": {
            "text/plain": [
              "[905.54734375,\n",
              " 231.9912857142857,\n",
              " 499.61310344827587,\n",
              " 467.4970886075949,\n",
              " 762.7591818181818]"
            ]
          },
          "metadata": {},
          "execution_count": 42
        }
      ]
    },
    {
      "cell_type": "code",
      "source": [
        "houses_columnwise['price_per_m2'] = price_per_m2\n",
        "houses_columnwise"
      ],
      "metadata": {
        "colab": {
          "base_uri": "https://localhost:8080/"
        },
        "id": "hh-IjaIbQCRj",
        "outputId": "fef99040-ac8c-4b2e-b9bd-1e0056fed00d"
      },
      "execution_count": 43,
      "outputs": [
        {
          "output_type": "execute_result",
          "data": {
            "text/plain": [
              "{'price_aprox_uds': [115910.06, 48718.17, 28977.56, 36932.27, 83903.51],\n",
              " 'surface_covered_in_m2': [128.0, 210.0, 58.0, 79.0, 110.0],\n",
              " 'room': [4.0, 3.0, 2.0, 3.0, 3.0],\n",
              " 'price_per_m2': [905.54734375,\n",
              "  231.9912857142857,\n",
              "  499.61310344827587,\n",
              "  467.4970886075949,\n",
              "  762.7591818181818]}"
            ]
          },
          "metadata": {},
          "execution_count": 43
        }
      ]
    },
    {
      "cell_type": "code",
      "source": [
        "# Task 1.1.9: Pandas Preview\n",
        "import pandas as pd\n",
        "houses_df = pd.DataFrame(houses_columnwise)\n",
        "houses_df"
      ],
      "metadata": {
        "colab": {
          "base_uri": "https://localhost:8080/",
          "height": 206
        },
        "id": "-sDNxKa2RTJA",
        "outputId": "c1545ce8-5ed3-4320-af46-a146c0ca9497"
      },
      "execution_count": 44,
      "outputs": [
        {
          "output_type": "execute_result",
          "data": {
            "text/plain": [
              "   price_aprox_uds  surface_covered_in_m2  room  price_per_m2\n",
              "0        115910.06                  128.0   4.0    905.547344\n",
              "1         48718.17                  210.0   3.0    231.991286\n",
              "2         28977.56                   58.0   2.0    499.613103\n",
              "3         36932.27                   79.0   3.0    467.497089\n",
              "4         83903.51                  110.0   3.0    762.759182"
            ],
            "text/html": [
              "\n",
              "  <div id=\"df-842f52d2-3c72-4256-aa7b-dfb7fea8fcf1\" class=\"colab-df-container\">\n",
              "    <div>\n",
              "<style scoped>\n",
              "    .dataframe tbody tr th:only-of-type {\n",
              "        vertical-align: middle;\n",
              "    }\n",
              "\n",
              "    .dataframe tbody tr th {\n",
              "        vertical-align: top;\n",
              "    }\n",
              "\n",
              "    .dataframe thead th {\n",
              "        text-align: right;\n",
              "    }\n",
              "</style>\n",
              "<table border=\"1\" class=\"dataframe\">\n",
              "  <thead>\n",
              "    <tr style=\"text-align: right;\">\n",
              "      <th></th>\n",
              "      <th>price_aprox_uds</th>\n",
              "      <th>surface_covered_in_m2</th>\n",
              "      <th>room</th>\n",
              "      <th>price_per_m2</th>\n",
              "    </tr>\n",
              "  </thead>\n",
              "  <tbody>\n",
              "    <tr>\n",
              "      <th>0</th>\n",
              "      <td>115910.06</td>\n",
              "      <td>128.0</td>\n",
              "      <td>4.0</td>\n",
              "      <td>905.547344</td>\n",
              "    </tr>\n",
              "    <tr>\n",
              "      <th>1</th>\n",
              "      <td>48718.17</td>\n",
              "      <td>210.0</td>\n",
              "      <td>3.0</td>\n",
              "      <td>231.991286</td>\n",
              "    </tr>\n",
              "    <tr>\n",
              "      <th>2</th>\n",
              "      <td>28977.56</td>\n",
              "      <td>58.0</td>\n",
              "      <td>2.0</td>\n",
              "      <td>499.613103</td>\n",
              "    </tr>\n",
              "    <tr>\n",
              "      <th>3</th>\n",
              "      <td>36932.27</td>\n",
              "      <td>79.0</td>\n",
              "      <td>3.0</td>\n",
              "      <td>467.497089</td>\n",
              "    </tr>\n",
              "    <tr>\n",
              "      <th>4</th>\n",
              "      <td>83903.51</td>\n",
              "      <td>110.0</td>\n",
              "      <td>3.0</td>\n",
              "      <td>762.759182</td>\n",
              "    </tr>\n",
              "  </tbody>\n",
              "</table>\n",
              "</div>\n",
              "    <div class=\"colab-df-buttons\">\n",
              "\n",
              "  <div class=\"colab-df-container\">\n",
              "    <button class=\"colab-df-convert\" onclick=\"convertToInteractive('df-842f52d2-3c72-4256-aa7b-dfb7fea8fcf1')\"\n",
              "            title=\"Convert this dataframe to an interactive table.\"\n",
              "            style=\"display:none;\">\n",
              "\n",
              "  <svg xmlns=\"http://www.w3.org/2000/svg\" height=\"24px\" viewBox=\"0 -960 960 960\">\n",
              "    <path d=\"M120-120v-720h720v720H120Zm60-500h600v-160H180v160Zm220 220h160v-160H400v160Zm0 220h160v-160H400v160ZM180-400h160v-160H180v160Zm440 0h160v-160H620v160ZM180-180h160v-160H180v160Zm440 0h160v-160H620v160Z\"/>\n",
              "  </svg>\n",
              "    </button>\n",
              "\n",
              "  <style>\n",
              "    .colab-df-container {\n",
              "      display:flex;\n",
              "      gap: 12px;\n",
              "    }\n",
              "\n",
              "    .colab-df-convert {\n",
              "      background-color: #E8F0FE;\n",
              "      border: none;\n",
              "      border-radius: 50%;\n",
              "      cursor: pointer;\n",
              "      display: none;\n",
              "      fill: #1967D2;\n",
              "      height: 32px;\n",
              "      padding: 0 0 0 0;\n",
              "      width: 32px;\n",
              "    }\n",
              "\n",
              "    .colab-df-convert:hover {\n",
              "      background-color: #E2EBFA;\n",
              "      box-shadow: 0px 1px 2px rgba(60, 64, 67, 0.3), 0px 1px 3px 1px rgba(60, 64, 67, 0.15);\n",
              "      fill: #174EA6;\n",
              "    }\n",
              "\n",
              "    .colab-df-buttons div {\n",
              "      margin-bottom: 4px;\n",
              "    }\n",
              "\n",
              "    [theme=dark] .colab-df-convert {\n",
              "      background-color: #3B4455;\n",
              "      fill: #D2E3FC;\n",
              "    }\n",
              "\n",
              "    [theme=dark] .colab-df-convert:hover {\n",
              "      background-color: #434B5C;\n",
              "      box-shadow: 0px 1px 3px 1px rgba(0, 0, 0, 0.15);\n",
              "      filter: drop-shadow(0px 1px 2px rgba(0, 0, 0, 0.3));\n",
              "      fill: #FFFFFF;\n",
              "    }\n",
              "  </style>\n",
              "\n",
              "    <script>\n",
              "      const buttonEl =\n",
              "        document.querySelector('#df-842f52d2-3c72-4256-aa7b-dfb7fea8fcf1 button.colab-df-convert');\n",
              "      buttonEl.style.display =\n",
              "        google.colab.kernel.accessAllowed ? 'block' : 'none';\n",
              "\n",
              "      async function convertToInteractive(key) {\n",
              "        const element = document.querySelector('#df-842f52d2-3c72-4256-aa7b-dfb7fea8fcf1');\n",
              "        const dataTable =\n",
              "          await google.colab.kernel.invokeFunction('convertToInteractive',\n",
              "                                                    [key], {});\n",
              "        if (!dataTable) return;\n",
              "\n",
              "        const docLinkHtml = 'Like what you see? Visit the ' +\n",
              "          '<a target=\"_blank\" href=https://colab.research.google.com/notebooks/data_table.ipynb>data table notebook</a>'\n",
              "          + ' to learn more about interactive tables.';\n",
              "        element.innerHTML = '';\n",
              "        dataTable['output_type'] = 'display_data';\n",
              "        await google.colab.output.renderOutput(dataTable, element);\n",
              "        const docLink = document.createElement('div');\n",
              "        docLink.innerHTML = docLinkHtml;\n",
              "        element.appendChild(docLink);\n",
              "      }\n",
              "    </script>\n",
              "  </div>\n",
              "\n",
              "\n",
              "    <div id=\"df-84811065-aa0b-4706-a529-db98589296ed\">\n",
              "      <button class=\"colab-df-quickchart\" onclick=\"quickchart('df-84811065-aa0b-4706-a529-db98589296ed')\"\n",
              "                title=\"Suggest charts\"\n",
              "                style=\"display:none;\">\n",
              "\n",
              "<svg xmlns=\"http://www.w3.org/2000/svg\" height=\"24px\"viewBox=\"0 0 24 24\"\n",
              "     width=\"24px\">\n",
              "    <g>\n",
              "        <path d=\"M19 3H5c-1.1 0-2 .9-2 2v14c0 1.1.9 2 2 2h14c1.1 0 2-.9 2-2V5c0-1.1-.9-2-2-2zM9 17H7v-7h2v7zm4 0h-2V7h2v10zm4 0h-2v-4h2v4z\"/>\n",
              "    </g>\n",
              "</svg>\n",
              "      </button>\n",
              "\n",
              "<style>\n",
              "  .colab-df-quickchart {\n",
              "      --bg-color: #E8F0FE;\n",
              "      --fill-color: #1967D2;\n",
              "      --hover-bg-color: #E2EBFA;\n",
              "      --hover-fill-color: #174EA6;\n",
              "      --disabled-fill-color: #AAA;\n",
              "      --disabled-bg-color: #DDD;\n",
              "  }\n",
              "\n",
              "  [theme=dark] .colab-df-quickchart {\n",
              "      --bg-color: #3B4455;\n",
              "      --fill-color: #D2E3FC;\n",
              "      --hover-bg-color: #434B5C;\n",
              "      --hover-fill-color: #FFFFFF;\n",
              "      --disabled-bg-color: #3B4455;\n",
              "      --disabled-fill-color: #666;\n",
              "  }\n",
              "\n",
              "  .colab-df-quickchart {\n",
              "    background-color: var(--bg-color);\n",
              "    border: none;\n",
              "    border-radius: 50%;\n",
              "    cursor: pointer;\n",
              "    display: none;\n",
              "    fill: var(--fill-color);\n",
              "    height: 32px;\n",
              "    padding: 0;\n",
              "    width: 32px;\n",
              "  }\n",
              "\n",
              "  .colab-df-quickchart:hover {\n",
              "    background-color: var(--hover-bg-color);\n",
              "    box-shadow: 0 1px 2px rgba(60, 64, 67, 0.3), 0 1px 3px 1px rgba(60, 64, 67, 0.15);\n",
              "    fill: var(--button-hover-fill-color);\n",
              "  }\n",
              "\n",
              "  .colab-df-quickchart-complete:disabled,\n",
              "  .colab-df-quickchart-complete:disabled:hover {\n",
              "    background-color: var(--disabled-bg-color);\n",
              "    fill: var(--disabled-fill-color);\n",
              "    box-shadow: none;\n",
              "  }\n",
              "\n",
              "  .colab-df-spinner {\n",
              "    border: 2px solid var(--fill-color);\n",
              "    border-color: transparent;\n",
              "    border-bottom-color: var(--fill-color);\n",
              "    animation:\n",
              "      spin 1s steps(1) infinite;\n",
              "  }\n",
              "\n",
              "  @keyframes spin {\n",
              "    0% {\n",
              "      border-color: transparent;\n",
              "      border-bottom-color: var(--fill-color);\n",
              "      border-left-color: var(--fill-color);\n",
              "    }\n",
              "    20% {\n",
              "      border-color: transparent;\n",
              "      border-left-color: var(--fill-color);\n",
              "      border-top-color: var(--fill-color);\n",
              "    }\n",
              "    30% {\n",
              "      border-color: transparent;\n",
              "      border-left-color: var(--fill-color);\n",
              "      border-top-color: var(--fill-color);\n",
              "      border-right-color: var(--fill-color);\n",
              "    }\n",
              "    40% {\n",
              "      border-color: transparent;\n",
              "      border-right-color: var(--fill-color);\n",
              "      border-top-color: var(--fill-color);\n",
              "    }\n",
              "    60% {\n",
              "      border-color: transparent;\n",
              "      border-right-color: var(--fill-color);\n",
              "    }\n",
              "    80% {\n",
              "      border-color: transparent;\n",
              "      border-right-color: var(--fill-color);\n",
              "      border-bottom-color: var(--fill-color);\n",
              "    }\n",
              "    90% {\n",
              "      border-color: transparent;\n",
              "      border-bottom-color: var(--fill-color);\n",
              "    }\n",
              "  }\n",
              "</style>\n",
              "\n",
              "      <script>\n",
              "        async function quickchart(key) {\n",
              "          const quickchartButtonEl =\n",
              "            document.querySelector('#' + key + ' button');\n",
              "          quickchartButtonEl.disabled = true;  // To prevent multiple clicks.\n",
              "          quickchartButtonEl.classList.add('colab-df-spinner');\n",
              "          try {\n",
              "            const charts = await google.colab.kernel.invokeFunction(\n",
              "                'suggestCharts', [key], {});\n",
              "          } catch (error) {\n",
              "            console.error('Error during call to suggestCharts:', error);\n",
              "          }\n",
              "          quickchartButtonEl.classList.remove('colab-df-spinner');\n",
              "          quickchartButtonEl.classList.add('colab-df-quickchart-complete');\n",
              "        }\n",
              "        (() => {\n",
              "          let quickchartButtonEl =\n",
              "            document.querySelector('#df-84811065-aa0b-4706-a529-db98589296ed button');\n",
              "          quickchartButtonEl.style.display =\n",
              "            google.colab.kernel.accessAllowed ? 'block' : 'none';\n",
              "        })();\n",
              "      </script>\n",
              "    </div>\n",
              "\n",
              "  <div id=\"id_756da488-26c7-431d-82b0-c05a750c6ee6\">\n",
              "    <style>\n",
              "      .colab-df-generate {\n",
              "        background-color: #E8F0FE;\n",
              "        border: none;\n",
              "        border-radius: 50%;\n",
              "        cursor: pointer;\n",
              "        display: none;\n",
              "        fill: #1967D2;\n",
              "        height: 32px;\n",
              "        padding: 0 0 0 0;\n",
              "        width: 32px;\n",
              "      }\n",
              "\n",
              "      .colab-df-generate:hover {\n",
              "        background-color: #E2EBFA;\n",
              "        box-shadow: 0px 1px 2px rgba(60, 64, 67, 0.3), 0px 1px 3px 1px rgba(60, 64, 67, 0.15);\n",
              "        fill: #174EA6;\n",
              "      }\n",
              "\n",
              "      [theme=dark] .colab-df-generate {\n",
              "        background-color: #3B4455;\n",
              "        fill: #D2E3FC;\n",
              "      }\n",
              "\n",
              "      [theme=dark] .colab-df-generate:hover {\n",
              "        background-color: #434B5C;\n",
              "        box-shadow: 0px 1px 3px 1px rgba(0, 0, 0, 0.15);\n",
              "        filter: drop-shadow(0px 1px 2px rgba(0, 0, 0, 0.3));\n",
              "        fill: #FFFFFF;\n",
              "      }\n",
              "    </style>\n",
              "    <button class=\"colab-df-generate\" onclick=\"generateWithVariable('houses_df')\"\n",
              "            title=\"Generate code using this dataframe.\"\n",
              "            style=\"display:none;\">\n",
              "\n",
              "  <svg xmlns=\"http://www.w3.org/2000/svg\" height=\"24px\"viewBox=\"0 0 24 24\"\n",
              "       width=\"24px\">\n",
              "    <path d=\"M7,19H8.4L18.45,9,17,7.55,7,17.6ZM5,21V16.75L18.45,3.32a2,2,0,0,1,2.83,0l1.4,1.43a1.91,1.91,0,0,1,.58,1.4,1.91,1.91,0,0,1-.58,1.4L9.25,21ZM18.45,9,17,7.55Zm-12,3A5.31,5.31,0,0,0,4.9,8.1,5.31,5.31,0,0,0,1,6.5,5.31,5.31,0,0,0,4.9,4.9,5.31,5.31,0,0,0,6.5,1,5.31,5.31,0,0,0,8.1,4.9,5.31,5.31,0,0,0,12,6.5,5.46,5.46,0,0,0,6.5,12Z\"/>\n",
              "  </svg>\n",
              "    </button>\n",
              "    <script>\n",
              "      (() => {\n",
              "      const buttonEl =\n",
              "        document.querySelector('#id_756da488-26c7-431d-82b0-c05a750c6ee6 button.colab-df-generate');\n",
              "      buttonEl.style.display =\n",
              "        google.colab.kernel.accessAllowed ? 'block' : 'none';\n",
              "\n",
              "      buttonEl.onclick = () => {\n",
              "        google.colab.notebook.generateWithVariable('houses_df');\n",
              "      }\n",
              "      })();\n",
              "    </script>\n",
              "  </div>\n",
              "\n",
              "    </div>\n",
              "  </div>\n"
            ],
            "application/vnd.google.colaboratory.intrinsic+json": {
              "type": "dataframe",
              "variable_name": "houses_df",
              "summary": "{\n  \"name\": \"houses_df\",\n  \"rows\": 5,\n  \"fields\": [\n    {\n      \"column\": \"price_aprox_uds\",\n      \"properties\": {\n        \"dtype\": \"number\",\n        \"std\": 36322.83183400669,\n        \"min\": 28977.56,\n        \"max\": 115910.06,\n        \"num_unique_values\": 5,\n        \"samples\": [\n          48718.17,\n          83903.51,\n          28977.56\n        ],\n        \"semantic_type\": \"\",\n        \"description\": \"\"\n      }\n    },\n    {\n      \"column\": \"surface_covered_in_m2\",\n      \"properties\": {\n        \"dtype\": \"number\",\n        \"std\": 58.61740355901138,\n        \"min\": 58.0,\n        \"max\": 210.0,\n        \"num_unique_values\": 5,\n        \"samples\": [\n          210.0,\n          110.0,\n          58.0\n        ],\n        \"semantic_type\": \"\",\n        \"description\": \"\"\n      }\n    },\n    {\n      \"column\": \"room\",\n      \"properties\": {\n        \"dtype\": \"number\",\n        \"std\": 0.7071067811865476,\n        \"min\": 2.0,\n        \"max\": 4.0,\n        \"num_unique_values\": 3,\n        \"samples\": [\n          4.0,\n          3.0,\n          2.0\n        ],\n        \"semantic_type\": \"\",\n        \"description\": \"\"\n      }\n    },\n    {\n      \"column\": \"price_per_m2\",\n      \"properties\": {\n        \"dtype\": \"number\",\n        \"std\": 264.29082813258674,\n        \"min\": 231.9912857142857,\n        \"max\": 905.54734375,\n        \"num_unique_values\": 5,\n        \"samples\": [\n          231.9912857142857,\n          762.7591818181818,\n          499.61310344827587\n        ],\n        \"semantic_type\": \"\",\n        \"description\": \"\"\n      }\n    }\n  ]\n}"
            }
          },
          "metadata": {},
          "execution_count": 44
        }
      ]
    }
  ]
}